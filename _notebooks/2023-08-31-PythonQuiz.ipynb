{
 "cells": [
  {
   "attachments": {},
   "cell_type": "markdown",
   "metadata": {},
   "source": [
    "---\n",
    "comments: true\n",
    "layout: post\n",
    "title: Quiz\n",
    "description: Grab Calculator Code and place in IPYNB\n",
    "type: tangibles\n",
    "courses: { compsci: {week: 2} }\n",
    "---"
   ]
  },
  {
   "cell_type": "code",
   "execution_count": 2,
   "metadata": {},
   "outputs": [
    {
     "name": "stdout",
     "output_type": "stream",
     "text": [
      "Wrong! The correct answer is: Windows subsystem for linux\n",
      "\n",
      "Wrong! The correct answer is: Push uploads code to a remote repository, commit saves changes locally\n",
      "\n",
      "Wrong! The correct answer is: Refers to the current device used to access it\n",
      "\n",
      "You scored 0 out of 3.\n"
     ]
    }
   ],
   "source": [
    "class QuizQuestion:\n",
    "    def __init__(self, question, correct_answer):\n",
    "        self.question = question\n",
    "        self.correct_answer = correct_answer.lower()  # Store lowercase answer for comparison\n",
    "\n",
    "    def check_answer(self, user_answer):\n",
    "        return user_answer.lower() == self.correct_answer\n",
    "\n",
    "questions = [\n",
    "    QuizQuestion(\"What is WSL?\", \"windows subsystem for linux\"),\n",
    "    QuizQuestion(\"What does GitHub push and commit do?\", \"push uploads code to a remote repository, commit saves changes locally\"),\n",
    "    QuizQuestion(\"What does 'localhost' (local host) mean?\", \"refers to the current device used to access it\"),\n",
    "]\n",
    "\n",
    "def main():\n",
    "    score = 0\n",
    "    for i, question in enumerate(questions, start=1):\n",
    "        user_answer = input(f\"Question {i}: {question.question}\\nYour answer: \")\n",
    "        if question.check_answer(user_answer):\n",
    "            print(\"Correct!\\n\")\n",
    "            score += 1\n",
    "        else:\n",
    "            print(f\"Wrong! The correct answer is: {question.correct_answer.capitalize()}\\n\")\n",
    "\n",
    "    print(f\"You scored {score} out of {len(questions)}.\")\n",
    "\n",
    "if __name__ == \"__main__\":\n",
    "    main()\n"
   ]
  }
 ],
 "metadata": {
  "kernelspec": {
   "display_name": "Python 3 (ipykernel)",
   "language": "python",
   "name": "python3"
  },
  "language_info": {
   "codemirror_mode": {
    "name": "ipython",
    "version": 3
   },
   "file_extension": ".py",
   "mimetype": "text/x-python",
   "name": "python",
   "nbconvert_exporter": "python",
   "pygments_lexer": "ipython3",
   "version": "3.10.12"
  }
 },
 "nbformat": 4,
 "nbformat_minor": 2
}
